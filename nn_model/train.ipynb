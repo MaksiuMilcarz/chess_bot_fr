{
 "cells": [
  {
   "cell_type": "markdown",
   "metadata": {},
   "source": [
    "# training overview\n",
    "\t•\tData Chunking: By preprocessing the data and saving it in chunks, we prevent memory overflow and ensure that only necessary data is loaded during training.\n",
    "\t•\tCustom Dataset: The ChunkedChessDataset class efficiently accesses individual samples without loading entire datasets into memory.\n",
    "\t•\tBatch Normalization: Including batch normalization layers helps stabilize and accelerate training, even with deeper networks.\n",
    "\t\n",
    "\t•\tEfficient Data Loading: Loading data in batches and on-the-fly reduces memory usage.\n",
    "\t•\tMinimizing Disk I/O: Preprocessing data reduces the need for complex computations during training.\n",
    "\t•\tBalanced Workload: Adjusting num_workers and batch_size ensures optimal CPU and GPU utilization.\n",
    "\t•\tAvoiding Repetition: Data is only processed once during preprocessing, avoiding redundant computations in the training loop.\n"
   ]
  },
  {
   "cell_type": "code",
   "execution_count": 1,
   "metadata": {},
   "outputs": [],
   "source": [
    "import os\n",
    "import numpy as np # type: ignore\n",
    "import time\n",
    "import torch\n",
    "import torch.nn as nn # type: ignore\n",
    "import torch.optim as optim # type: ignore\n",
    "from torch.utils.data import DataLoader # type: ignore\n",
    "from chess import pgn # type: ignore\n",
    "from tqdm import tqdm # type: ignore\n",
    "from helper_funcs import encode_moves, preprocess_and_save_data\n",
    "from dataset import ChunkedChessDataset\n",
    "from model import ChessModel\n",
    "import glob"
   ]
  },
  {
   "cell_type": "markdown",
   "metadata": {},
   "source": [
    "# Data Processing"
   ]
  },
  {
   "cell_type": "markdown",
   "metadata": {},
   "source": [
    "## load data - into chunks so that memory is not overwhelmed, store them in sepearte folder"
   ]
  },
  {
   "cell_type": "code",
   "execution_count": 2,
   "metadata": {},
   "outputs": [
    {
     "name": "stdout",
     "output_type": "stream",
     "text": [
      "Collecting unique moves...\n"
     ]
    },
    {
     "name": "stderr",
     "output_type": "stream",
     "text": [
      "Processing PGN Files for Move Collection:   0%|          | 0/1 [00:00<?, ?it/s]"
     ]
    }
   ],
   "source": [
    "# takes ~ \n",
    "\n",
    "# List all PGN files in the data directory limit to 1 for testing\n",
    "pgn_files = glob.glob('../data/pgn/*.pgn')[:1]\n",
    "# pgn_files = glob.glob('../data/pgn/*.pgn')\n",
    "\n",
    "# Preprocess data and save in chunks using probabilistic sampling\n",
    "move_to_int, num_classes = preprocess_and_save_data(pgn_files, chunk_size=10000)"
   ]
  },
  {
   "cell_type": "code",
   "execution_count": null,
   "metadata": {},
   "outputs": [],
   "source": [
    "print(f\"GAMES PARSED: {len(move_to_int)}\")"
   ]
  },
  {
   "cell_type": "markdown",
   "metadata": {},
   "source": [
    "## setup"
   ]
  },
  {
   "cell_type": "code",
   "execution_count": null,
   "metadata": {},
   "outputs": [],
   "source": [
    "# Device configuration\n",
    "if torch.backends.mps.is_available():\n",
    "    device = torch.device('mps')\n",
    "    print(\"Using MPS backend on Apple Silicon (M2).\")\n",
    "else:\n",
    "    device = torch.device('cpu')\n",
    "    print(\"MPS backend not available. Using CPU.\")\n",
    "\n",
    "# Create dataset and split into training and validation\n",
    "dataset = ChunkedChessDataset(data_dir='data_chunks')\n",
    "train_size = int(0.8 * len(dataset))\n",
    "val_size = len(dataset) - train_size\n",
    "train_dataset, val_dataset = random_split(dataset, [train_size, val_size])\n",
    "\n",
    "# Create dataloaders\n",
    "train_dataloader = DataLoader(train_dataset,\n",
    "                              batch_size=64,\n",
    "                              shuffle=True,\n",
    "                              num_workers=2,\n",
    "                              pin_memory=False)  # Disabled for MPS backend\n",
    "\n",
    "val_dataloader = DataLoader(val_dataset,\n",
    "                            batch_size=64,\n",
    "                            shuffle=False,\n",
    "                            num_workers=2,\n",
    "                            pin_memory=False)\n",
    "\n",
    "# Initialize the model, loss function, and optimizer\n",
    "model = ChessModel(num_classes=num_classes).to(device)\n",
    "criterion = nn.CrossEntropyLoss()\n",
    "optimizer = optim.Adam(model.parameters(), lr=0.0001)\n",
    "\n",
    "# Initialize the Learning Rate Scheduler\n",
    "# Option 1: ReduceLROnPlateau\n",
    "scheduler = optim.lr_scheduler.ReduceLROnPlateau(optimizer, mode='min',\n",
    "                                                 factor=0.1, patience=5,\n",
    "                                                 verbose=True, threshold=1e-4)\n",
    "\n",
    "# Option 2: StepLR (Alternative)\n",
    "# scheduler = optim.lr_scheduler.StepLR(optimizer, step_size=5, gamma=0.1)"
   ]
  },
  {
   "cell_type": "markdown",
   "metadata": {},
   "source": [
    "# Train"
   ]
  },
  {
   "cell_type": "code",
   "execution_count": null,
   "metadata": {},
   "outputs": [],
   "source": [
    "# Training loop\n",
    "num_epochs = 10\n",
    "for epoch in range(num_epochs):\n",
    "    model.train()\n",
    "    running_loss = 0.0\n",
    "    start_time = time.time()\n",
    "\n",
    "    # Training phase\n",
    "    for inputs, labels in tqdm(train_dataloader, desc=f\"Epoch {epoch+1}/{num_epochs} - Training\", unit=\"batch\"):\n",
    "        inputs = inputs.to(device)\n",
    "        labels = labels.to(device)\n",
    "\n",
    "        optimizer.zero_grad()\n",
    "        outputs = model(inputs)\n",
    "        loss = criterion(outputs, labels)\n",
    "        loss.backward()\n",
    "\n",
    "        # Gradient clipping\n",
    "        torch.nn.utils.clip_grad_norm_(model.parameters(), max_norm=1.0)\n",
    "\n",
    "        optimizer.step()\n",
    "\n",
    "        running_loss += loss.item() * inputs.size(0)\n",
    "\n",
    "    # Calculate average training loss\n",
    "    train_loss = running_loss / train_size\n",
    "\n",
    "    # Validation phase\n",
    "    model.eval()\n",
    "    val_running_loss = 0.0\n",
    "    with torch.no_grad():\n",
    "        for val_inputs, val_labels in tqdm(val_dataloader, desc=f\"Epoch {epoch+1}/{num_epochs} - Validation\", unit=\"batch\"):\n",
    "            val_inputs = val_inputs.to(device)\n",
    "            val_labels = val_labels.to(device)\n",
    "\n",
    "            val_outputs = model(val_inputs)\n",
    "            val_loss = criterion(val_outputs, val_labels)\n",
    "\n",
    "            val_running_loss += val_loss.item() * val_inputs.size(0)\n",
    "\n",
    "    # Calculate average validation loss\n",
    "    val_loss = val_running_loss / val_size\n",
    "\n",
    "    # Step the scheduler based on validation loss\n",
    "    scheduler.step(val_loss)\n",
    "\n",
    "    # Calculate elapsed time\n",
    "    elapsed_time = time.time() - start_time\n",
    "    minutes = int(elapsed_time // 60)\n",
    "    seconds = int(elapsed_time % 60)\n",
    "\n",
    "    print(f\"Epoch [{epoch+1}/{num_epochs}], \"\n",
    "          f\"Train Loss: {train_loss:.4f}, \"\n",
    "          f\"Val Loss: {val_loss:.4f}, \"\n",
    "          f\"Time: {minutes}m {seconds}s\")\n",
    "    \n",
    "    # Optionally, save model checkpoints\n",
    "    if (epoch + 1) % 5 == 0:\n",
    "        checkpoint_path = f'chess_model_epoch_{epoch+1}.pth'\n",
    "        torch.save(model.state_dict(), checkpoint_path)\n",
    "        print(f\"Checkpoint saved at '{checkpoint_path}'.\")\n",
    "\n",
    "# Save the final trained model\n",
    "torch.save(model.state_dict(), 'chess_model_final.pth')\n",
    "print(\"Training complete. Final model saved as 'chess_model_final.pth'.\")"
   ]
  }
 ],
 "metadata": {
  "kernelspec": {
   "display_name": "base",
   "language": "python",
   "name": "python3"
  },
  "language_info": {
   "codemirror_mode": {
    "name": "ipython",
    "version": 3
   },
   "file_extension": ".py",
   "mimetype": "text/x-python",
   "name": "python",
   "nbconvert_exporter": "python",
   "pygments_lexer": "ipython3",
   "version": "3.12.2"
  },
  "orig_nbformat": 4
 },
 "nbformat": 4,
 "nbformat_minor": 2
}
