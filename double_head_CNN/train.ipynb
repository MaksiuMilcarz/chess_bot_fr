{
 "cells": [
  {
   "cell_type": "code",
   "execution_count": 1,
   "metadata": {},
   "outputs": [],
   "source": [
    "from torch.utils.data import DataLoader\n",
    "from dataset import HDF5ChessDataset\n",
    "import torch.nn as nn\n",
    "import torch.optim as optim\n",
    "from model import ChessBotCNN\n",
    "import torch\n",
    "from processing import preprocess_and_save_hdf5\n",
    "import h5py\n"
   ]
  },
  {
   "cell_type": "code",
   "execution_count": null,
   "metadata": {},
   "outputs": [],
   "source": [
    "hdf5_file = 'preprocessed_data.h5'\n",
    "parquet_file = 'chess_data.parquet'\n",
    "\n",
    "preprocess_and_save_hdf5(parquet_file, hdf5_file, chunk_size=10000)"
   ]
  },
  {
   "cell_type": "code",
   "execution_count": null,
   "metadata": {},
   "outputs": [],
   "source": [
    "# Initialize the dataset\n",
    "dataset = HDF5ChessDataset(hdf5_file)\n",
    "dataloader = DataLoader(\n",
    "    dataset,\n",
    "    batch_size=64,\n",
    "    shuffle=True,\n",
    "    num_workers=0,  # Use 0 to avoid HDF5 multi-threading issues\n",
    "    pin_memory=True\n",
    ")\n",
    "device = torch.device('mps' if torch.backends.mps.is_available() else 'cpu')"
   ]
  },
  {
   "cell_type": "code",
   "execution_count": null,
   "metadata": {},
   "outputs": [],
   "source": [
    "# Initialize the model\n",
    "model = ChessBotCNN()\n",
    "model = model.to(device) \n",
    "model.train()\n",
    "\n",
    "# Loss functions\n",
    "policy_loss_fn = nn.KLDivLoss(reduction='batchmean')  # For policy output\n",
    "value_loss_fn = nn.MSELoss()                          # For value output\n",
    "\n",
    "# Optimizer\n",
    "optimizer = optim.Adam(model.parameters(), lr=0.001)\n",
    "\n",
    "num_epochs = 10  \n",
    "log_interval = 100  # Logging interval"
   ]
  },
  {
   "cell_type": "code",
   "execution_count": null,
   "metadata": {},
   "outputs": [],
   "source": [
    "for epoch in range(1, num_epochs + 1):\n",
    "    model.train()\n",
    "    for batch_idx, (board_tensor, policy_tensor, value_tensor) in enumerate(dataloader):\n",
    "        board_tensor = board_tensor.to(device, non_blocking=True)\n",
    "        policy_tensor = policy_tensor.to(device, non_blocking=True)\n",
    "        value_tensor = value_tensor.to(device, non_blocking=True)\n",
    "\n",
    "        optimizer.zero_grad()\n",
    "\n",
    "        # Forward pass\n",
    "        policy_pred, value_pred = model(board_tensor)\n",
    "\n",
    "        # Compute losses\n",
    "        policy_loss = policy_loss_fn(policy_pred, policy_tensor)\n",
    "        value_loss = value_loss_fn(value_pred.squeeze(), value_tensor)\n",
    "\n",
    "        # Total loss\n",
    "        loss = policy_loss + value_loss\n",
    "\n",
    "        # Backward pass and optimization\n",
    "        loss.backward()\n",
    "        optimizer.step()\n",
    "\n",
    "        if batch_idx % log_interval == 0:\n",
    "            print(f\"Epoch [{epoch}/{num_epochs}], Batch [{batch_idx}/{len(dataloader)}], \"\n",
    "                  f\"Policy Loss: {policy_loss.item():.4f}, Value Loss: {value_loss.item():.4f}\")\n"
   ]
  },
  {
   "cell_type": "code",
   "execution_count": null,
   "metadata": {},
   "outputs": [],
   "source": [
    "dataset.close()\n",
    "\n",
    "model_name = \"mark5.1-MCTS\"\n",
    "\n",
    "# Save the updated model\n",
    "torch.save(model.state_dict(), f\"{model_name}.pth\")\n",
    "\n",
    "model.eval()\n",
    "# Create an example input\n",
    "example_input = torch.randn(1, 13, 8, 8)\n",
    "# Trace the model\n",
    "traced_script_module = torch.jit.trace(model, example_input)\n",
    "# Save the traced model\n",
    "traced_script_module.save(f\"{model_name}.pt\")"
   ]
  }
 ],
 "metadata": {
  "kernelspec": {
   "display_name": "base",
   "language": "python",
   "name": "python3"
  },
  "language_info": {
   "codemirror_mode": {
    "name": "ipython",
    "version": 3
   },
   "file_extension": ".py",
   "mimetype": "text/x-python",
   "name": "python",
   "nbconvert_exporter": "python",
   "pygments_lexer": "ipython3",
   "version": "3.12.2"
  },
  "orig_nbformat": 4
 },
 "nbformat": 4,
 "nbformat_minor": 2
}
