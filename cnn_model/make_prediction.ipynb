{
 "cells": [
  {
   "cell_type": "code",
   "execution_count": 1,
   "metadata": {},
   "outputs": [],
   "source": [
    "import torch\n",
    "from chess import Board\n",
    "import pickle\n",
    "import numpy as np\n",
    "from predict.compare_models import compare_models\n",
    "from train.model import ChessModel_mark34"
   ]
  },
  {
   "cell_type": "code",
   "execution_count": 2,
   "metadata": {},
   "outputs": [
    {
     "name": "stdout",
     "output_type": "stream",
     "text": [
      "Models loaded\n"
     ]
    },
    {
     "name": "stderr",
     "output_type": "stream",
     "text": [
      "/var/folders/84/sbq4d0yx2vdcrx0_5_cy2hmh0000gn/T/ipykernel_18344/974617820.py:12: FutureWarning: You are using `torch.load` with `weights_only=False` (the current default value), which uses the default pickle module implicitly. It is possible to construct malicious pickle data which will execute arbitrary code during unpickling (See https://github.com/pytorch/pytorch/blob/main/SECURITY.md#untrusted-models for more details). In a future release, the default value for `weights_only` will be flipped to `True`. This limits the functions that could be executed during unpickling. Arbitrary objects will no longer be allowed to be loaded via this mode unless they are explicitly allowlisted by the user via `torch.serialization.add_safe_globals`. We recommend you start setting `weights_only=True` for any use case where you don't have full control of the loaded file. Please open an issue on GitHub for any issues related to this experimental feature.\n",
      "  model_A.load_state_dict(torch.load('../models/mark3.5-50e.pth', map_location=torch.device('mps')))\n",
      "/var/folders/84/sbq4d0yx2vdcrx0_5_cy2hmh0000gn/T/ipykernel_18344/974617820.py:17: FutureWarning: You are using `torch.load` with `weights_only=False` (the current default value), which uses the default pickle module implicitly. It is possible to construct malicious pickle data which will execute arbitrary code during unpickling (See https://github.com/pytorch/pytorch/blob/main/SECURITY.md#untrusted-models for more details). In a future release, the default value for `weights_only` will be flipped to `True`. This limits the functions that could be executed during unpickling. Arbitrary objects will no longer be allowed to be loaded via this mode unless they are explicitly allowlisted by the user via `torch.serialization.add_safe_globals`. We recommend you start setting `weights_only=True` for any use case where you don't have full control of the loaded file. Please open an issue on GitHub for any issues related to this experimental feature.\n",
      "  model_B.load_state_dict(torch.load('../models/mark4.3-25e-500k.pth', map_location=torch.device('mps')))\n"
     ]
    }
   ],
   "source": [
    "with open('../models/mark3_move_to_int.pkl', 'rb') as f:\n",
    "    move_to_int_A = pickle.load(f)\n",
    "\n",
    "with open('../models/mark4_move_to_int.pkl', 'rb') as f:\n",
    "    move_to_int_B = pickle.load(f)\n",
    "\n",
    "num_classes_A = len(move_to_int_A)\n",
    "num_classes_B = len(move_to_int_B)\n",
    "\n",
    "# Load the first model (e.g., mark3.3-19e.pth)\n",
    "model_A = ChessModel_mark34(num_classes=num_classes_A)\n",
    "model_A.load_state_dict(torch.load('../models/mark3.5-50e.pth', map_location=torch.device('mps')))\n",
    "model_A.eval()\n",
    "\n",
    "# Load the second model (e.g., another model you've trained)\n",
    "model_B = ChessModel_mark34(num_classes=num_classes_B)\n",
    "model_B.load_state_dict(torch.load('../models/mark4.3-25e-500k.pth', map_location=torch.device('mps')))\n",
    "model_B.eval()\n",
    "\n",
    "# Create reverse mapping from indices to moves\n",
    "int_to_move_A = {v: k for k, v in move_to_int_A.items()}\n",
    "int_to_move_B = {v: k for k, v in move_to_int_B.items()}\n",
    "\n",
    "print(\"Models loaded\")"
   ]
  },
  {
   "cell_type": "code",
   "execution_count": 3,
   "metadata": {},
   "outputs": [
    {
     "name": "stdout",
     "output_type": "stream",
     "text": [
      "Completed 100/500 games.\n",
      "Completed 200/500 games.\n",
      "Completed 300/500 games.\n",
      "Completed 400/500 games.\n",
      "Completed 500/500 games.\n",
      "Simulation completed.\n",
      "Total games: 500\n",
      "Model A wins: 250\n",
      "Model B wins: 250\n",
      "Draws: 0\n"
     ]
    }
   ],
   "source": [
    "\n",
    "result = compare_models(model_A, model_B, move_to_int_A, int_to_move_A, move_to_int_B, int_to_move_B, num_games=100)"
   ]
  },
  {
   "cell_type": "markdown",
   "metadata": {},
   "source": [
    "### Mark3 vs Mark4 results\n",
    "\n",
    "* 308:402:290 - temp 0.5\n",
    "* 293:393:314 - temp 0.2\n",
    "* 273:328:399 - temp 1.0\n",
    "* 184:124:692 - temp 2.5\n",
    "\n",
    "* No temp but softmax: 297:324:379"
   ]
  },
  {
   "cell_type": "code",
   "execution_count": null,
   "metadata": {},
   "outputs": [],
   "source": []
  },
  {
   "cell_type": "code",
   "execution_count": null,
   "metadata": {},
   "outputs": [],
   "source": [
    "# Simulate the game\n",
    "board = Board()\n",
    "simulate_game(model_A, model_B, move_to_int_A, int_to_move_A, initial_board=board, sleep_time=1, board_size=500)"
   ]
  },
  {
   "cell_type": "code",
   "execution_count": null,
   "metadata": {},
   "outputs": [],
   "source": []
  },
  {
   "cell_type": "markdown",
   "metadata": {},
   "source": []
  },
  {
   "cell_type": "code",
   "execution_count": null,
   "metadata": {},
   "outputs": [],
   "source": []
  }
 ],
 "metadata": {
  "kernelspec": {
   "display_name": "base",
   "language": "python",
   "name": "python3"
  },
  "language_info": {
   "codemirror_mode": {
    "name": "ipython",
    "version": 3
   },
   "file_extension": ".py",
   "mimetype": "text/x-python",
   "name": "python",
   "nbconvert_exporter": "python",
   "pygments_lexer": "ipython3",
   "version": "3.12.2"
  },
  "orig_nbformat": 4
 },
 "nbformat": 4,
 "nbformat_minor": 2
}
