{
 "cells": [
  {
   "cell_type": "code",
   "execution_count": null,
   "metadata": {},
   "outputs": [],
   "source": [
    "import time\n",
    "import chess\n",
    "import chess.svg\n",
    "from IPython.display import clear_output, display, SVG\n",
    "import torch\n",
    "from train.utils import board_to_matrix_mark34\n",
    "from predict.predict import predict_best_move  # Import your function\n",
    "from train.model import ChessModel_mark34  # Import your model definition\n",
    "import pickle"
   ]
  },
  {
   "cell_type": "code",
   "execution_count": null,
   "metadata": {},
   "outputs": [],
   "source": [
    "# Load the move_to_int and int_to_move dictionaries\n",
    "with open('/Users/maksiuuuuuuu/Desktop/MyWork/game_bots/chess_bot_fr/models/mark4_move_to_int.pkl', 'rb') as f:\n",
    "    move_to_int = pickle.load(f)\n",
    "int_to_move = {v: k for k, v in move_to_int.items()}\n",
    "num_classes = len(move_to_int)\n",
    "\n",
    "# Load the model\n",
    "model = ChessModel_mark34(num_classes=num_classes)\n",
    "model.load_state_dict(torch.load('/Users/maksiuuuuuuu/Desktop/MyWork/game_bots/chess_bot_fr/models/mark4.3-25e-500k.pth', map_location=torch.device('mps')))\n",
    "model.eval()\n",
    "\n",
    "board = chess.Board()"
   ]
  },
  {
   "cell_type": "code",
   "execution_count": null,
   "metadata": {},
   "outputs": [],
   "source": [
    "def display_board(board):\n",
    "    clear_output(wait=True)  # Clears previous output for a clean display\n",
    "    svg_board = chess.svg.board(board=board, size=600)\n",
    "    display(SVG(svg_board))"
   ]
  },
  {
   "cell_type": "code",
   "execution_count": 7,
   "metadata": {},
   "outputs": [
    {
     "name": "stdout",
     "output_type": "stream",
     "text": [
      "Invalid move format.\n"
     ]
    },
    {
     "ename": "KeyboardInterrupt",
     "evalue": "Interrupted by user",
     "output_type": "error",
     "traceback": [
      "\u001b[0;31m---------------------------------------------------------------------------\u001b[0m",
      "\u001b[0;31mKeyboardInterrupt\u001b[0m                         Traceback (most recent call last)",
      "\u001b[1;32m/Users/maksiuuuuuuu/Desktop/MyWork/game_bots/chess_bot_fr/cnn_model/play.ipynb Cell 4\u001b[0m line \u001b[0;36m6\n\u001b[1;32m      <a href='vscode-notebook-cell:/Users/maksiuuuuuuu/Desktop/MyWork/game_bots/chess_bot_fr/cnn_model/play.ipynb#W3sZmlsZQ%3D%3D?line=1'>2</a>\u001b[0m display_board(board)\n\u001b[1;32m      <a href='vscode-notebook-cell:/Users/maksiuuuuuuu/Desktop/MyWork/game_bots/chess_bot_fr/cnn_model/play.ipynb#W3sZmlsZQ%3D%3D?line=3'>4</a>\u001b[0m \u001b[39mwhile\u001b[39;00m \u001b[39mnot\u001b[39;00m board\u001b[39m.\u001b[39mis_game_over():\n\u001b[1;32m      <a href='vscode-notebook-cell:/Users/maksiuuuuuuu/Desktop/MyWork/game_bots/chess_bot_fr/cnn_model/play.ipynb#W3sZmlsZQ%3D%3D?line=4'>5</a>\u001b[0m     \u001b[39m# User move\u001b[39;00m\n\u001b[0;32m----> <a href='vscode-notebook-cell:/Users/maksiuuuuuuu/Desktop/MyWork/game_bots/chess_bot_fr/cnn_model/play.ipynb#W3sZmlsZQ%3D%3D?line=5'>6</a>\u001b[0m     user_move \u001b[39m=\u001b[39m \u001b[39minput\u001b[39;49m(\u001b[39m\"\u001b[39;49m\u001b[39mYour move (e.g., e2e4): \u001b[39;49m\u001b[39m\"\u001b[39;49m)\u001b[39m.\u001b[39mstrip()\n\u001b[1;32m      <a href='vscode-notebook-cell:/Users/maksiuuuuuuu/Desktop/MyWork/game_bots/chess_bot_fr/cnn_model/play.ipynb#W3sZmlsZQ%3D%3D?line=7'>8</a>\u001b[0m     \u001b[39mtry\u001b[39;00m:\n\u001b[1;32m      <a href='vscode-notebook-cell:/Users/maksiuuuuuuu/Desktop/MyWork/game_bots/chess_bot_fr/cnn_model/play.ipynb#W3sZmlsZQ%3D%3D?line=8'>9</a>\u001b[0m         move \u001b[39m=\u001b[39m chess\u001b[39m.\u001b[39mMove\u001b[39m.\u001b[39mfrom_uci(user_move)\n",
      "File \u001b[0;32m~/miniconda3/lib/python3.12/site-packages/ipykernel/kernelbase.py:1282\u001b[0m, in \u001b[0;36mKernel.raw_input\u001b[0;34m(self, prompt)\u001b[0m\n\u001b[1;32m   1280\u001b[0m     msg \u001b[39m=\u001b[39m \u001b[39m\"\u001b[39m\u001b[39mraw_input was called, but this frontend does not support input requests.\u001b[39m\u001b[39m\"\u001b[39m\n\u001b[1;32m   1281\u001b[0m     \u001b[39mraise\u001b[39;00m StdinNotImplementedError(msg)\n\u001b[0;32m-> 1282\u001b[0m \u001b[39mreturn\u001b[39;00m \u001b[39mself\u001b[39;49m\u001b[39m.\u001b[39;49m_input_request(\n\u001b[1;32m   1283\u001b[0m     \u001b[39mstr\u001b[39;49m(prompt),\n\u001b[1;32m   1284\u001b[0m     \u001b[39mself\u001b[39;49m\u001b[39m.\u001b[39;49m_parent_ident[\u001b[39m\"\u001b[39;49m\u001b[39mshell\u001b[39;49m\u001b[39m\"\u001b[39;49m],\n\u001b[1;32m   1285\u001b[0m     \u001b[39mself\u001b[39;49m\u001b[39m.\u001b[39;49mget_parent(\u001b[39m\"\u001b[39;49m\u001b[39mshell\u001b[39;49m\u001b[39m\"\u001b[39;49m),\n\u001b[1;32m   1286\u001b[0m     password\u001b[39m=\u001b[39;49m\u001b[39mFalse\u001b[39;49;00m,\n\u001b[1;32m   1287\u001b[0m )\n",
      "File \u001b[0;32m~/miniconda3/lib/python3.12/site-packages/ipykernel/kernelbase.py:1325\u001b[0m, in \u001b[0;36mKernel._input_request\u001b[0;34m(self, prompt, ident, parent, password)\u001b[0m\n\u001b[1;32m   1322\u001b[0m \u001b[39mexcept\u001b[39;00m \u001b[39mKeyboardInterrupt\u001b[39;00m:\n\u001b[1;32m   1323\u001b[0m     \u001b[39m# re-raise KeyboardInterrupt, to truncate traceback\u001b[39;00m\n\u001b[1;32m   1324\u001b[0m     msg \u001b[39m=\u001b[39m \u001b[39m\"\u001b[39m\u001b[39mInterrupted by user\u001b[39m\u001b[39m\"\u001b[39m\n\u001b[0;32m-> 1325\u001b[0m     \u001b[39mraise\u001b[39;00m \u001b[39mKeyboardInterrupt\u001b[39;00m(msg) \u001b[39mfrom\u001b[39;00m \u001b[39mNone\u001b[39;00m\n\u001b[1;32m   1326\u001b[0m \u001b[39mexcept\u001b[39;00m \u001b[39mException\u001b[39;00m:\n\u001b[1;32m   1327\u001b[0m     \u001b[39mself\u001b[39m\u001b[39m.\u001b[39mlog\u001b[39m.\u001b[39mwarning(\u001b[39m\"\u001b[39m\u001b[39mInvalid Message:\u001b[39m\u001b[39m\"\u001b[39m, exc_info\u001b[39m=\u001b[39m\u001b[39mTrue\u001b[39;00m)\n",
      "\u001b[0;31mKeyboardInterrupt\u001b[0m: Interrupted by user"
     ]
    }
   ],
   "source": [
    "# Display initial board\n",
    "display_board(board)\n",
    "\n",
    "while not board.is_game_over():\n",
    "    # User move\n",
    "    user_move = input(\"Your move (e.g., e2e4): \").strip()\n",
    "    \n",
    "    try:\n",
    "        move = chess.Move.from_uci(user_move)\n",
    "        if move in board.legal_moves:\n",
    "            board.push(move)\n",
    "            # Display the board after user's move\n",
    "            display_board(board)\n",
    "        else:\n",
    "            print(\"Illegal move.\")\n",
    "            continue\n",
    "    except ValueError:\n",
    "        print(\"Invalid move format.\")\n",
    "        continue\n",
    "\n",
    "    if board.is_game_over():\n",
    "        break\n",
    "\n",
    "    # Bot move using model prediction\n",
    "    time.sleep(0.5)  # Simulate \"thinking\" time\n",
    "    bot_move_uci = predict_best_move(model, move_to_int, int_to_move, board)\n",
    "    if bot_move_uci:\n",
    "        bot_move = chess.Move.from_uci(bot_move_uci)\n",
    "        board.push(bot_move)\n",
    "        print(f\"Bot plays: {bot_move_uci}\")\n",
    "        # Display the board after bot's move\n",
    "        display_board(board)\n",
    "    else:\n",
    "        print(\"Bot has no legal moves.\")\n",
    "        break\n",
    "\n",
    "# Display the final board and result\n",
    "print(\"\\nGame over.\")\n",
    "print(f\"Result: {board.result()}\")"
   ]
  },
  {
   "cell_type": "code",
   "execution_count": null,
   "metadata": {},
   "outputs": [],
   "source": []
  }
 ],
 "metadata": {
  "kernelspec": {
   "display_name": "base",
   "language": "python",
   "name": "python3"
  },
  "language_info": {
   "codemirror_mode": {
    "name": "ipython",
    "version": 3
   },
   "file_extension": ".py",
   "mimetype": "text/x-python",
   "name": "python",
   "nbconvert_exporter": "python",
   "pygments_lexer": "ipython3",
   "version": "3.12.2"
  },
  "orig_nbformat": 4
 },
 "nbformat": 4,
 "nbformat_minor": 2
}
